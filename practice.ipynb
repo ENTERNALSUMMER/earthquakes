{
 "cells": [
  {
   "cell_type": "code",
   "execution_count": null,
   "metadata": {},
   "outputs": [],
   "source": [
    "import requests"
   ]
  },
  {
   "cell_type": "code",
   "execution_count": null,
   "metadata": {},
   "outputs": [],
   "source": [
    "import numpy as np\n",
    "import json"
   ]
  },
  {
   "cell_type": "code",
   "execution_count": null,
   "metadata": {},
   "outputs": [],
   "source": [
    "import numpy as np\n",
    "import json\n",
    "import requests\n",
    "\n",
    "response = requests.get(\n",
    "        \"http://earthquake.usgs.gov/fdsnws/event/1/query.geojson\",\n",
    "        params={\n",
    "            'starttime': \"2010-01-01\",\n",
    "            \"maxlatitude\": \"58.723\",\n",
    "            \"minlatitude\": \"50.008\",\n",
    "            \"maxlongitude\": \"1.67\",\n",
    "            \"minlongitude\": \"-9.756\",\n",
    "            \"minmagnitude\": \"1\",\n",
    "            \"endtime\": \"2018-10-11\",\n",
    "            \"orderby\": \"time-asc\"}\n",
    "    )\n",
    "text = response.text\n",
    "response_data = json.loads(text)\n",
    "response.url"
   ]
  },
  {
   "cell_type": "code",
   "execution_count": null,
   "metadata": {},
   "outputs": [],
   "source": [
    "print(response_data)"
   ]
  },
  {
   "cell_type": "code",
   "execution_count": null,
   "metadata": {},
   "outputs": [],
   "source": [
    "response_data[\"properties\"]"
   ]
  },
  {
   "cell_type": "code",
   "execution_count": null,
   "metadata": {},
   "outputs": [],
   "source": [
    "def get_data():\n",
    "    # With requests, we can ask the web service for the data.\n",
    "    # Can you understand the parameters we are passing here?\n",
    "    response = requests.get(\n",
    "        \"http://earthquake.usgs.gov/fdsnws/event/1/query.geojson\",\n",
    "        params={\n",
    "            'starttime': \"2000-01-01\",\n",
    "            \"maxlatitude\": \"58.723\",\n",
    "            \"minlatitude\": \"50.008\",\n",
    "            \"maxlongitude\": \"1.67\",\n",
    "            \"minlongitude\": \"-9.756\",\n",
    "            \"minmagnitude\": \"1\",\n",
    "            \"endtime\": \"2018-10-11\",\n",
    "            \"orderby\": \"time-asc\"}\n",
    "    )\n",
    "\n",
    "    # The response we get back is an object with several fields.\n",
    "    # The actual contents we care about are in its text field:\n",
    "    text = response.text\n",
    "    response_data = json.loads(text)\n",
    "    # To understand the structure of this text, you may want to save it\n",
    "    # to a file and open it in VS Code or a browser.\n",
    "    # See the README file for more information.\n",
    "    #json.dumps(response)\n",
    "\n",
    "    # We need to interpret the text to get values that we can work with.\n",
    "    # What format is the text in? How can we load the values?\n",
    "    return response_data\n",
    "\n",
    "def count_earthquakes(response_data):\n",
    "    \"\"\"Get the total number of earthquakes in the response.\"\"\"\n",
    "    earthquakeNo = len(response_data['features'])\n",
    "    return earthquakeNo \n",
    "\n",
    "\n",
    "def get_magnitude(earthquake):\n",
    "    \"\"\"Retrive the magnitude of an earthquake item.\"\"\"\n",
    "    for i in range(len(response_data['features'])):\n",
    "        if earthquakeid == response_data['features'][i]['id']:\n",
    "            magnitude = response_data['features'][i]['properties']['mag']\n",
    "    return magnitude\n",
    "\n",
    "\n",
    "def get_location(earthquakeid):\n",
    "    \"\"\"Retrieve the latitude and longitude of an earthquake item.\"\"\"\n",
    "    for i in range(len(response_data['features'])):\n",
    "        if earthquakeid == response_data['features'][i]['id']:\n",
    "            longitude = response_data['features'][i]['geometry']['coordinates'][0]\n",
    "            latitude = response_data['features'][i]['geometry']['coordinates'][1]\n",
    "    # There are three coordinates, but we don't care about the third (altitude)\n",
    "    return longitude, latitude"
   ]
  },
  {
   "cell_type": "code",
   "execution_count": null,
   "metadata": {},
   "outputs": [],
   "source": []
  }
 ],
 "metadata": {
  "kernelspec": {
   "display_name": "Python 3.9.12 ('base')",
   "language": "python",
   "name": "python3"
  },
  "language_info": {
   "codemirror_mode": {
    "name": "ipython",
    "version": 3
   },
   "file_extension": ".py",
   "mimetype": "text/x-python",
   "name": "python",
   "nbconvert_exporter": "python",
   "pygments_lexer": "ipython3",
   "version": "3.9.12"
  },
  "orig_nbformat": 4,
  "vscode": {
   "interpreter": {
    "hash": "c124b18b936e58b2c77a97490d9100c25b07542d06466e5a671acf5dd123b9be"
   }
  }
 },
 "nbformat": 4,
 "nbformat_minor": 2
}
