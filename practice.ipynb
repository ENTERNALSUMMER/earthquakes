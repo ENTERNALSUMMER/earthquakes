{
 "cells": [
  {
   "cell_type": "code",
   "execution_count": 1,
   "metadata": {},
   "outputs": [],
   "source": [
    "import requests"
   ]
  },
  {
   "cell_type": "code",
   "execution_count": 9,
   "metadata": {},
   "outputs": [],
   "source": [
    "import numpy as np\n",
    "import json"
   ]
  },
  {
   "cell_type": "code",
   "execution_count": 23,
   "metadata": {},
   "outputs": [
    {
     "data": {
      "text/plain": [
       "'https://earthquake.usgs.gov/fdsnws/event/1/query.geojson?starttime=2010-01-01&maxlatitude=58.723&minlatitude=50.008&maxlongitude=1.67&minlongitude=-9.756&minmagnitude=1&endtime=2018-10-11&orderby=time-asc'"
      ]
     },
     "execution_count": 23,
     "metadata": {},
     "output_type": "execute_result"
    }
   ],
   "source": [
    "import numpy as np\n",
    "import json\n",
    "import requests\n",
    "\n",
    "response = requests.get(\n",
    "        \"http://earthquake.usgs.gov/fdsnws/event/1/query.geojson\",\n",
    "        params={\n",
    "            'starttime': \"2010-01-01\",\n",
    "            \"maxlatitude\": \"58.723\",\n",
    "            \"minlatitude\": \"50.008\",\n",
    "            \"maxlongitude\": \"1.67\",\n",
    "            \"minlongitude\": \"-9.756\",\n",
    "            \"minmagnitude\": \"1\",\n",
    "            \"endtime\": \"2018-10-11\",\n",
    "            \"orderby\": \"time-asc\"}\n",
    "    )\n",
    "text = response.text\n",
    "response_data = json.loads(text)\n",
    "response.url"
   ]
  },
  {
   "cell_type": "code",
   "execution_count": 16,
   "metadata": {},
   "outputs": [
    {
     "name": "stdout",
     "output_type": "stream",
     "text": [
      "{'type': 'FeatureCollection', 'metadata': {'generated': 1666866305000, 'url': 'https://earthquake.usgs.gov/fdsnws/event/1/query.geojson?starttime=2010-01-01&maxlatitude=58.723&minlatitude=50.008&maxlongitude=1.67&minlongitude=-9.756&minmagnitude=1&endtime=2018-10-11&orderby=time-asc', 'title': 'USGS Earthquakes', 'status': 200, 'api': '1.13.6', 'count': 28}, 'features': [{'type': 'Feature', 'properties': {'mag': 3.5, 'place': '12 km WSW of Ambleside, United Kingdom', 'time': 1292972352700, 'updated': 1415324591102, 'tz': None, 'url': 'https://earthquake.usgs.gov/earthquakes/eventpage/usp000hrck', 'detail': 'https://earthquake.usgs.gov/fdsnws/event/1/query?eventid=usp000hrck&format=geojson', 'felt': None, 'cdi': None, 'mmi': None, 'alert': None, 'status': 'reviewed', 'tsunami': 0, 'sig': 188, 'net': 'us', 'code': 'p000hrck', 'ids': ',usp000hrck,', 'sources': ',us,', 'types': ',impact-text,origin,phase-data,', 'nst': 31, 'dmin': None, 'rms': None, 'gap': 62.5, 'magType': 'ml', 'type': 'earthquake', 'title': 'M 3.5 - 12 km WSW of Ambleside, United Kingdom'}, 'geometry': {'type': 'Point', 'coordinates': [-3.146, 54.39, 12.6]}, 'id': 'usp000hrck'}, {'type': 'Feature', 'properties': {'mag': 3.6, 'place': '5 km S of Masham, United Kingdom', 'time': 1294088589400, 'updated': 1658195647957, 'tz': None, 'url': 'https://earthquake.usgs.gov/earthquakes/eventpage/usp000hsj4', 'detail': 'https://earthquake.usgs.gov/fdsnws/event/1/query?eventid=usp000hsj4&format=geojson', 'felt': 490, 'cdi': 5.3, 'mmi': None, 'alert': None, 'status': 'reviewed', 'tsunami': 0, 'sig': 459, 'net': 'us', 'code': 'p000hsj4', 'ids': ',us2011frb5,usp000hsj4,', 'sources': ',us,us,', 'types': ',associate,dyfi,impact-text,origin,phase-data,', 'nst': 23, 'dmin': None, 'rms': None, 'gap': 88, 'magType': 'ml', 'type': 'earthquake', 'title': 'M 3.6 - 5 km S of Masham, United Kingdom'}, 'geometry': {'type': 'Point', 'coordinates': [-1.652, 54.169, 6]}, 'id': 'usp000hsj4'}, {'type': 'Feature', 'properties': {'mag': 3.5, 'place': '28 km NE of Tobermory, United Kingdom', 'time': 1295762569300, 'updated': 1415324608776, 'tz': None, 'url': 'https://earthquake.usgs.gov/earthquakes/eventpage/usp000hthp', 'detail': 'https://earthquake.usgs.gov/fdsnws/event/1/query?eventid=usp000hthp&format=geojson', 'felt': None, 'cdi': None, 'mmi': None, 'alert': None, 'status': 'reviewed', 'tsunami': 0, 'sig': 188, 'net': 'us', 'code': 'p000hthp', 'ids': ',usp000hthp,', 'sources': ',us,', 'types': ',impact-text,origin,phase-data,', 'nst': 13, 'dmin': None, 'rms': None, 'gap': 150.7, 'magType': 'ml', 'type': 'earthquake', 'title': 'M 3.5 - 28 km NE of Tobermory, United Kingdom'}, 'geometry': {'type': 'Point', 'coordinates': [-5.784, 56.822, 16.2]}, 'id': 'usp000hthp'}, {'type': 'Feature', 'properties': {'mag': 2.7, 'place': '4 km WSW of Bovey Tracey, United Kingdom', 'time': 1308836618100, 'updated': 1415324709370, 'tz': None, 'url': 'https://earthquake.usgs.gov/earthquakes/eventpage/usp000j3m3', 'detail': 'https://earthquake.usgs.gov/fdsnws/event/1/query?eventid=usp000j3m3&format=geojson', 'felt': None, 'cdi': None, 'mmi': None, 'alert': None, 'status': 'reviewed', 'tsunami': 0, 'sig': 112, 'net': 'us', 'code': 'p000j3m3', 'ids': ',usp000j3m3,', 'sources': ',us,', 'types': ',impact-text,origin,phase-data,', 'nst': 10, 'dmin': None, 'rms': None, 'gap': 177.9, 'magType': 'ml', 'type': 'earthquake', 'title': 'M 2.7 - 4 km WSW of Bovey Tracey, United Kingdom'}, 'geometry': {'type': 'Point', 'coordinates': [-3.734, 50.571, 2.8]}, 'id': 'usp000j3m3'}, {'type': 'Feature', 'properties': {'mag': 3.9, 'place': '62 km SSE of Ventnor, United Kingdom', 'time': 1310626750900, 'updated': 1415324721736, 'tz': None, 'url': 'https://earthquake.usgs.gov/earthquakes/eventpage/usp000j4v4', 'detail': 'https://earthquake.usgs.gov/fdsnws/event/1/query?eventid=usp000j4v4&format=geojson', 'felt': None, 'cdi': None, 'mmi': None, 'alert': None, 'status': 'reviewed', 'tsunami': 0, 'sig': 234, 'net': 'us', 'code': 'p000j4v4', 'ids': ',usp000j4v4,', 'sources': ',us,', 'types': ',impact-text,origin,phase-data,', 'nst': 85, 'dmin': None, 'rms': None, 'gap': 47.7, 'magType': 'ml', 'type': 'earthquake', 'title': 'M 3.9 - 62 km SSE of Ventnor, United Kingdom'}, 'geometry': {'type': 'Point', 'coordinates': [-0.743, 50.122, 10]}, 'id': 'usp000j4v4'}, {'type': 'Feature', 'properties': {'mag': 2.9, 'place': '0 km NE of Hathern, United Kingdom', 'time': 1358486444400, 'updated': 1427162405562, 'tz': None, 'url': 'https://earthquake.usgs.gov/earthquakes/eventpage/usp000jyhq', 'detail': 'https://earthquake.usgs.gov/fdsnws/event/1/query?eventid=usp000jyhq&format=geojson', 'felt': 28, 'cdi': 4.1, 'mmi': None, 'alert': None, 'status': 'reviewed', 'tsunami': 0, 'sig': 141, 'net': 'us', 'code': 'p000jyhq', 'ids': ',usb000equa,usp000jyhq,', 'sources': ',us,us,', 'types': ',associate,dyfi,impact-text,origin,phase-data,', 'nst': 19, 'dmin': None, 'rms': None, 'gap': 77.8, 'magType': 'ml', 'type': 'earthquake', 'title': 'M 2.9 - 0 km NE of Hathern, United Kingdom'}, 'geometry': {'type': 'Point', 'coordinates': [-1.25, 52.801, 13]}, 'id': 'usp000jyhq'}, {'type': 'Feature', 'properties': {'mag': 2.3, 'place': '3 km SE of Caernarfon, United Kingdom', 'time': 1360276864000, 'updated': 1658684407131, 'tz': None, 'url': 'https://earthquake.usgs.gov/earthquakes/eventpage/usc000f3w6', 'detail': 'https://earthquake.usgs.gov/fdsnws/event/1/query?eventid=usc000f3w6&format=geojson', 'felt': 5, 'cdi': 2.7, 'mmi': None, 'alert': None, 'status': 'reviewed', 'tsunami': 0, 'sig': 83, 'net': 'us', 'code': 'c000f3w6', 'ids': ',usc000f3w6,', 'sources': ',us,', 'types': ',dyfi,impact-text,origin,phase-data,', 'nst': 4, 'dmin': None, 'rms': None, 'gap': 137.8, 'magType': 'ml', 'type': 'earthquake', 'title': 'M 2.3 - 3 km SE of Caernarfon, United Kingdom'}, 'geometry': {'type': 'Point', 'coordinates': [-4.231, 53.125, 9]}, 'id': 'usc000f3w6'}, {'type': 'Feature', 'properties': {'mag': 2.9, 'place': '27 km NE of Tobermory, United Kingdom', 'time': 1368904682790, 'updated': 1415325049942, 'tz': None, 'url': 'https://earthquake.usgs.gov/earthquakes/eventpage/us2013qib5', 'detail': 'https://earthquake.usgs.gov/fdsnws/event/1/query?eventid=us2013qib5&format=geojson', 'felt': None, 'cdi': None, 'mmi': None, 'alert': None, 'status': 'reviewed', 'tsunami': 0, 'sig': 129, 'net': 'us', 'code': '2013qib5', 'ids': ',us2013qib5,', 'sources': ',us,', 'types': ',impact-text,origin,phase-data,', 'nst': 6, 'dmin': None, 'rms': None, 'gap': 100, 'magType': 'ml', 'type': 'earthquake', 'title': 'M 2.9 - 27 km NE of Tobermory, United Kingdom'}, 'geometry': {'type': 'Point', 'coordinates': [-5.715, 56.776, 10]}, 'id': 'us2013qib5'}, {'type': 'Feature', 'properties': {'mag': 3.8, 'place': '14 km WSW of Nefyn, United Kingdom', 'time': 1369797388900, 'updated': 1658719989674, 'tz': None, 'url': 'https://earthquake.usgs.gov/earthquakes/eventpage/usb000h7yc', 'detail': 'https://earthquake.usgs.gov/fdsnws/event/1/query?eventid=usb000h7yc&format=geojson', 'felt': 49, 'cdi': 4.5, 'mmi': None, 'alert': None, 'status': 'reviewed', 'tsunami': 0, 'sig': 244, 'net': 'us', 'code': 'b000h7yc', 'ids': ',usb000h7yc,', 'sources': ',us,', 'types': ',cap,dyfi,impact-text,origin,phase-data,', 'nst': 74, 'dmin': None, 'rms': None, 'gap': 135.2, 'magType': 'ml', 'type': 'earthquake', 'title': 'M 3.8 - 14 km WSW of Nefyn, United Kingdom'}, 'geometry': {'type': 'Point', 'coordinates': [-4.719, 52.883, 10]}, 'id': 'usb000h7yc'}, {'type': 'Feature', 'properties': {'mag': 2.8, 'place': '14 km WSW of Nefyn, United Kingdom', 'time': 1372285681500, 'updated': 1415325067631, 'tz': None, 'url': 'https://earthquake.usgs.gov/earthquakes/eventpage/usp000k1gg', 'detail': 'https://earthquake.usgs.gov/fdsnws/event/1/query?eventid=usp000k1gg&format=geojson', 'felt': None, 'cdi': None, 'mmi': None, 'alert': None, 'status': 'reviewed', 'tsunami': 0, 'sig': 121, 'net': 'us', 'code': 'p000k1gg', 'ids': ',usp000k1gg,', 'sources': ',us,', 'types': ',impact-text,origin,phase-data,', 'nst': 5, 'dmin': None, 'rms': None, 'gap': 100, 'magType': 'ml', 'type': 'earthquake', 'title': 'M 2.8 - 14 km WSW of Nefyn, United Kingdom'}, 'geometry': {'type': 'Point', 'coordinates': [-4.72, 52.879, 8]}, 'id': 'usp000k1gg'}, {'type': 'Feature', 'properties': {'mag': 3.2, 'place': '23 km W of Cleveleys, United Kingdom', 'time': 1377424715800, 'updated': 1658783118018, 'tz': None, 'url': 'https://earthquake.usgs.gov/earthquakes/eventpage/usb000jbmh', 'detail': 'https://earthquake.usgs.gov/fdsnws/event/1/query?eventid=usb000jbmh&format=geojson', 'felt': 4, 'cdi': 2.5, 'mmi': None, 'alert': None, 'status': 'reviewed', 'tsunami': 0, 'sig': 159, 'net': 'us', 'code': 'b000jbmh', 'ids': ',usb000jbmh,', 'sources': ',us,', 'types': ',cap,dyfi,impact-text,origin,phase-data,', 'nst': None, 'dmin': None, 'rms': 1.61, 'gap': None, 'magType': 'ml', 'type': 'earthquake', 'title': 'M 3.2 - 23 km W of Cleveleys, United Kingdom'}, 'geometry': {'type': 'Point', 'coordinates': [-3.403, 53.887, 8]}, 'id': 'usb000jbmh'}, {'type': 'Feature', 'properties': {'mag': 4.1, 'place': '17 km NNW of Ilfracombe, United Kingdom', 'time': 1392902490000, 'updated': 1399420984000, 'tz': None, 'url': 'https://earthquake.usgs.gov/earthquakes/eventpage/usc000muba', 'detail': 'https://earthquake.usgs.gov/fdsnws/event/1/query?eventid=usc000muba&format=geojson', 'felt': None, 'cdi': None, 'mmi': None, 'alert': None, 'status': 'reviewed', 'tsunami': 0, 'sig': 259, 'net': 'us', 'code': 'c000muba', 'ids': ',usc000muba,', 'sources': ',us,', 'types': ',cap,origin,phase-data,', 'nst': None, 'dmin': None, 'rms': 0.87, 'gap': None, 'magType': 'ml', 'type': 'earthquake', 'title': 'M 4.1 - 17 km NNW of Ilfracombe, United Kingdom'}, 'geometry': {'type': 'Point', 'coordinates': [-4.164, 51.363, 3]}, 'id': 'usc000muba'}, {'type': 'Feature', 'properties': {'mag': 3.5, 'place': '3 km WSW of Market Overton, United Kingdom', 'time': 1397803851500, 'updated': 1404437614000, 'tz': None, 'url': 'https://earthquake.usgs.gov/earthquakes/eventpage/usb000ppvz', 'detail': 'https://earthquake.usgs.gov/fdsnws/event/1/query?eventid=usb000ppvz&format=geojson', 'felt': None, 'cdi': None, 'mmi': None, 'alert': None, 'status': 'reviewed', 'tsunami': 0, 'sig': 188, 'net': 'us', 'code': 'b000ppvz', 'ids': ',usb000ppvz,', 'sources': ',us,', 'types': ',cap,origin,phase-data,', 'nst': None, 'dmin': None, 'rms': 1.55, 'gap': None, 'magType': 'ml', 'type': 'earthquake', 'title': 'M 3.5 - 3 km WSW of Market Overton, United Kingdom'}, 'geometry': {'type': 'Point', 'coordinates': [-0.732, 52.722, 2]}, 'id': 'usb000ppvz'}, {'type': 'Feature', 'properties': {'mag': 2.6, 'place': '2 km NNE of Hucknall, United Kingdom', 'time': 1414523814600, 'updated': 1658902386740, 'tz': None, 'url': 'https://earthquake.usgs.gov/earthquakes/eventpage/usb000srj4', 'detail': 'https://earthquake.usgs.gov/fdsnws/event/1/query?eventid=usb000srj4&format=geojson', 'felt': 1, 'cdi': 2.5, 'mmi': None, 'alert': None, 'status': 'reviewed', 'tsunami': 0, 'sig': 104, 'net': 'us', 'code': 'b000srj4', 'ids': ',usb000srj4,', 'sources': ',us,', 'types': ',cap,dyfi,impact-text,origin,phase-data,', 'nst': None, 'dmin': None, 'rms': 0.41, 'gap': None, 'magType': 'ml', 'type': 'earthquake', 'title': 'M 2.6 - 2 km NNE of Hucknall, United Kingdom'}, 'geometry': {'type': 'Point', 'coordinates': [-1.191, 53.057, 7]}, 'id': 'usb000srj4'}, {'type': 'Feature', 'properties': {'mag': 2.9, 'place': '1 km ENE of Winchester, United Kingdom', 'time': 1422383417600, 'updated': 1658942917500, 'tz': None, 'url': 'https://earthquake.usgs.gov/earthquakes/eventpage/usc000tjwr', 'detail': 'https://earthquake.usgs.gov/fdsnws/event/1/query?eventid=usc000tjwr&format=geojson', 'felt': 3, 'cdi': 3.1, 'mmi': None, 'alert': None, 'status': 'reviewed', 'tsunami': 0, 'sig': 130, 'net': 'us', 'code': 'c000tjwr', 'ids': ',usc000tjwr,', 'sources': ',us,', 'types': ',cap,dyfi,impact-text,origin,phase-data,', 'nst': None, 'dmin': None, 'rms': 1.01, 'gap': None, 'magType': 'ml', 'type': 'earthquake', 'title': 'M 2.9 - 1 km ENE of Winchester, United Kingdom'}, 'geometry': {'type': 'Point', 'coordinates': [-1.299, 51.072, 3]}, 'id': 'usc000tjwr'}, {'type': 'Feature', 'properties': {'mag': 3.8, 'place': '2 km WSW of Market Overton, United Kingdom', 'time': 1422483953700, 'updated': 1658943031688, 'tz': None, 'url': 'https://earthquake.usgs.gov/earthquakes/eventpage/usc000tjwv', 'detail': 'https://earthquake.usgs.gov/fdsnws/event/1/query?eventid=usc000tjwv&format=geojson', 'felt': 127, 'cdi': 4.6, 'mmi': None, 'alert': None, 'status': 'reviewed', 'tsunami': 0, 'sig': 281, 'net': 'us', 'code': 'c000tjwv', 'ids': ',usc000tjwv,', 'sources': ',us,', 'types': ',cap,dyfi,impact-text,origin,phase-data,', 'nst': None, 'dmin': None, 'rms': 0.83, 'gap': None, 'magType': 'ml', 'type': 'earthquake', 'title': 'M 3.8 - 2 km WSW of Market Overton, United Kingdom'}, 'geometry': {'type': 'Point', 'coordinates': [-0.717, 52.727, 3]}, 'id': 'usc000tjwv'}, {'type': 'Feature', 'properties': {'mag': 3.7, 'place': '3 km SSE of Ramsgate, United Kingdom', 'time': 1432259537900, 'updated': 1659859335680, 'tz': None, 'url': 'https://earthquake.usgs.gov/earthquakes/eventpage/us10002bap', 'detail': 'https://earthquake.usgs.gov/fdsnws/event/1/query?eventid=us10002bap&format=geojson', 'felt': 143, 'cdi': 4.5, 'mmi': None, 'alert': None, 'status': 'reviewed', 'tsunami': 0, 'sig': 275, 'net': 'us', 'code': '10002bap', 'ids': ',us10002bap,', 'sources': ',us,', 'types': ',cap,dyfi,impact-text,moment-tensor,origin,phase-data,', 'nst': None, 'dmin': None, 'rms': 1.84, 'gap': None, 'magType': 'mwr', 'type': 'earthquake', 'title': 'M 3.7 - 3 km SSE of Ramsgate, United Kingdom'}, 'geometry': {'type': 'Point', 'coordinates': [1.438, 51.304, 12]}, 'id': 'us10002bap'}, {'type': 'Feature', 'properties': {'mag': 3, 'place': '6 km WSW of Caernarfon, United Kingdom', 'time': 1432654863800, 'updated': 1659260150098, 'tz': None, 'url': 'https://earthquake.usgs.gov/earthquakes/eventpage/us10002cc4', 'detail': 'https://earthquake.usgs.gov/fdsnws/event/1/query?eventid=us10002cc4&format=geojson', 'felt': 5, 'cdi': 3.8, 'mmi': None, 'alert': None, 'status': 'reviewed', 'tsunami': 0, 'sig': 140, 'net': 'us', 'code': '10002cc4', 'ids': ',us10002cc4,', 'sources': ',us,', 'types': ',cap,dyfi,impact-text,origin,phase-data,', 'nst': None, 'dmin': None, 'rms': 1.75, 'gap': None, 'magType': 'ml', 'type': 'earthquake', 'title': 'M 3.0 - 6 km WSW of Caernarfon, United Kingdom'}, 'geometry': {'type': 'Point', 'coordinates': [-4.355, 53.116, 9]}, 'id': 'us10002cc4'}, {'type': 'Feature', 'properties': {'mag': 2.8, 'place': '2 km W of Cottesmore, United Kingdom', 'time': 1442958011200, 'updated': 1659339204207, 'tz': None, 'url': 'https://earthquake.usgs.gov/earthquakes/eventpage/us20003n3q', 'detail': 'https://earthquake.usgs.gov/fdsnws/event/1/query?eventid=us20003n3q&format=geojson', 'felt': 9, 'cdi': 4.1, 'mmi': None, 'alert': None, 'status': 'reviewed', 'tsunami': 0, 'sig': 124, 'net': 'us', 'code': '20003n3q', 'ids': ',us20003n3q,', 'sources': ',us,', 'types': ',cap,dyfi,impact-text,origin,phase-data,', 'nst': None, 'dmin': None, 'rms': 0.7, 'gap': None, 'magType': 'ml', 'type': 'earthquake', 'title': 'M 2.8 - 2 km W of Cottesmore, United Kingdom'}, 'geometry': {'type': 'Point', 'coordinates': [-0.693, 52.714, 2]}, 'id': 'us20003n3q'}, {'type': 'Feature', 'properties': {'mag': 3.8, 'place': '31 km NE of Tobermory, United Kingdom', 'time': 1501857816590, 'updated': 1659881601497, 'tz': None, 'url': 'https://earthquake.usgs.gov/earthquakes/eventpage/us2000a62y', 'detail': 'https://earthquake.usgs.gov/fdsnws/event/1/query?eventid=us2000a62y&format=geojson', 'felt': 9, 'cdi': 4.3, 'mmi': None, 'alert': None, 'status': 'reviewed', 'tsunami': 0, 'sig': 226, 'net': 'us', 'code': '2000a62y', 'ids': ',us2000a62y,', 'sources': ',us,', 'types': ',dyfi,origin,phase-data,', 'nst': None, 'dmin': 2.08, 'rms': 0.59, 'gap': 137, 'magType': 'ml', 'type': 'earthquake', 'title': 'M 3.8 - 31 km NE of Tobermory, United Kingdom'}, 'geometry': {'type': 'Point', 'coordinates': [-5.7295, 56.8378, 7.07]}, 'id': 'us2000a62y'}, {'type': 'Feature', 'properties': {'mag': 2.6, 'place': '2 km NNW of Tarbert, United Kingdom', 'time': 1509569962000, 'updated': 1516757104040, 'tz': None, 'url': 'https://earthquake.usgs.gov/earthquakes/eventpage/us2000bf5x', 'detail': 'https://earthquake.usgs.gov/fdsnws/event/1/query?eventid=us2000bf5x&format=geojson', 'felt': 30, 'cdi': 3.2, 'mmi': None, 'alert': None, 'status': 'reviewed', 'tsunami': 0, 'sig': 114, 'net': 'us', 'code': '2000bf5x', 'ids': ',us2000bf5x,', 'sources': ',us,', 'types': ',dyfi,impact-text,origin,phase-data,', 'nst': None, 'dmin': None, 'rms': 0.55, 'gap': None, 'magType': 'ml', 'type': 'earthquake', 'title': 'M 2.6 - 2 km NNW of Tarbert, United Kingdom'}, 'geometry': {'type': 'Point', 'coordinates': [-5.429, 55.883, 7]}, 'id': 'us2000bf5x'}, {'type': 'Feature', 'properties': {'mag': 4.3, 'place': '5 km NE of Clydach, United Kingdom', 'time': 1518877865070, 'updated': 1664101506468, 'tz': None, 'url': 'https://earthquake.usgs.gov/earthquakes/eventpage/us2000d3uw', 'detail': 'https://earthquake.usgs.gov/fdsnws/event/1/query?eventid=us2000d3uw&format=geojson', 'felt': 3409, 'cdi': 5.4, 'mmi': 4.638, 'alert': None, 'status': 'reviewed', 'tsunami': 0, 'sig': 824, 'net': 'us', 'code': '2000d3uw', 'ids': ',us2000d3uw,', 'sources': ',us,', 'types': ',dyfi,impact-text,origin,phase-data,shakemap,', 'nst': None, 'dmin': 2.167, 'rms': 1.14, 'gap': 92, 'magType': 'mb', 'type': 'earthquake', 'title': 'M 4.3 - 5 km NE of Clydach, United Kingdom'}, 'geometry': {'type': 'Point', 'coordinates': [-3.8559, 51.7231, 11.55]}, 'id': 'us2000d3uw'}, {'type': 'Feature', 'properties': {'mag': 2.7, 'place': '4 km E of Holmwood, United Kingdom', 'time': 1522581061000, 'updated': 1529703139040, 'tz': None, 'url': 'https://earthquake.usgs.gov/earthquakes/eventpage/us1000dc9r', 'detail': 'https://earthquake.usgs.gov/fdsnws/event/1/query?eventid=us1000dc9r&format=geojson', 'felt': 22, 'cdi': 3.3, 'mmi': None, 'alert': None, 'status': 'reviewed', 'tsunami': 0, 'sig': 119, 'net': 'us', 'code': '1000dc9r', 'ids': ',us1000dc9r,', 'sources': ',us,', 'types': ',dyfi,origin,phase-data,', 'nst': None, 'dmin': None, 'rms': 1.07, 'gap': None, 'magType': 'ml', 'type': 'earthquake', 'title': 'M 2.7 - 4 km E of Holmwood, United Kingdom'}, 'geometry': {'type': 'Point', 'coordinates': [-0.257, 51.174, 5]}, 'id': 'us1000dc9r'}, {'type': 'Feature', 'properties': {'mag': 4.1, 'place': '7 km NNE of Withernsea, United Kingdom', 'time': 1528582465670, 'updated': 1535560582040, 'tz': None, 'url': 'https://earthquake.usgs.gov/earthquakes/eventpage/us1000emw5', 'detail': 'https://earthquake.usgs.gov/fdsnws/event/1/query?eventid=us1000emw5&format=geojson', 'felt': 33, 'cdi': 3.9, 'mmi': None, 'alert': None, 'status': 'reviewed', 'tsunami': 0, 'sig': 271, 'net': 'us', 'code': '1000emw5', 'ids': ',us1000emw5,', 'sources': ',us,', 'types': ',dyfi,origin,phase-data,', 'nst': None, 'dmin': 2.438, 'rms': 1.01, 'gap': 76, 'magType': 'mb', 'type': 'earthquake', 'title': 'M 4.1 - 7 km NNE of Withernsea, United Kingdom'}, 'geometry': {'type': 'Point', 'coordinates': [0.0603, 53.7927, 10]}, 'id': 'us1000emw5'}, {'type': 'Feature', 'properties': {'mag': 2.6, 'place': '5 km W of Capel, United Kingdom', 'time': 1530102503700, 'updated': 1537547147040, 'tz': None, 'url': 'https://earthquake.usgs.gov/earthquakes/eventpage/us2000fpl7', 'detail': 'https://earthquake.usgs.gov/fdsnws/event/1/query?eventid=us2000fpl7&format=geojson', 'felt': 17, 'cdi': 3.8, 'mmi': None, 'alert': None, 'status': 'reviewed', 'tsunami': 0, 'sig': 110, 'net': 'us', 'code': '2000fpl7', 'ids': ',us2000fpl7,', 'sources': ',us,', 'types': ',dyfi,origin,phase-data,', 'nst': None, 'dmin': None, 'rms': 0.8, 'gap': None, 'magType': 'ml', 'type': 'earthquake', 'title': 'M 2.6 - 5 km W of Capel, United Kingdom'}, 'geometry': {'type': 'Point', 'coordinates': [-0.258, 51.154, 5]}, 'id': 'us2000fpl7'}, {'type': 'Feature', 'properties': {'mag': 2.4, 'place': '4 km E of Capel, United Kingdom', 'time': 1530251652600, 'updated': 1537547147040, 'tz': None, 'url': 'https://earthquake.usgs.gov/earthquakes/eventpage/us2000ft87', 'detail': 'https://earthquake.usgs.gov/fdsnws/event/1/query?eventid=us2000ft87&format=geojson', 'felt': 3, 'cdi': 2, 'mmi': None, 'alert': None, 'status': 'reviewed', 'tsunami': 0, 'sig': 89, 'net': 'us', 'code': '2000ft87', 'ids': ',us2000ft87,', 'sources': ',us,', 'types': ',dyfi,origin,phase-data,', 'nst': None, 'dmin': None, 'rms': 1.8, 'gap': None, 'magType': 'ml', 'type': 'earthquake', 'title': 'M 2.4 - 4 km E of Capel, United Kingdom'}, 'geometry': {'type': 'Point', 'coordinates': [-0.265, 51.152, 5]}, 'id': 'us2000ft87'}, {'type': 'Feature', 'properties': {'mag': 2.8, 'place': '1 km S of Ewhurst, United Kingdom', 'time': 1530788004180, 'updated': 1551245211157, 'tz': None, 'url': 'https://earthquake.usgs.gov/earthquakes/eventpage/us2000fxc7', 'detail': 'https://earthquake.usgs.gov/fdsnws/event/1/query?eventid=us2000fxc7&format=geojson', 'felt': 171, 'cdi': 4.2, 'mmi': None, 'alert': None, 'status': 'reviewed', 'tsunami': 0, 'sig': 192, 'net': 'us', 'code': '2000fxc7', 'ids': ',us2000fxc7,', 'sources': ',us,', 'types': ',dyfi,origin,phase-data,', 'nst': None, 'dmin': 3.582, 'rms': 0.41, 'gap': 190, 'magType': 'mb_lg', 'type': 'earthquake', 'title': 'M 2.8 - 1 km S of Ewhurst, United Kingdom'}, 'geometry': {'type': 'Point', 'coordinates': [-0.4435, 51.1437, 10]}, 'id': 'us2000fxc7'}, {'type': 'Feature', 'properties': {'mag': 2.5, 'place': '1 km ENE of Gourock, United Kingdom', 'time': 1535668487620, 'updated': 1541615829040, 'tz': None, 'url': 'https://earthquake.usgs.gov/earthquakes/eventpage/us2000h6y0', 'detail': 'https://earthquake.usgs.gov/fdsnws/event/1/query?eventid=us2000h6y0&format=geojson', 'felt': None, 'cdi': None, 'mmi': None, 'alert': None, 'status': 'reviewed', 'tsunami': 0, 'sig': 96, 'net': 'us', 'code': '2000h6y0', 'ids': ',us2000h6y0,', 'sources': ',us,', 'types': ',impact-text,origin,phase-data,', 'nst': None, 'dmin': 1.112, 'rms': 0.26, 'gap': 211, 'magType': 'ml', 'type': 'earthquake', 'title': 'M 2.5 - 1 km ENE of Gourock, United Kingdom'}, 'geometry': {'type': 'Point', 'coordinates': [-4.7957, 55.9663, 10]}, 'id': 'us2000h6y0'}], 'bbox': [-5.784, 50.122, 2, 1.438, 56.8378, 16.2]}\n"
     ]
    }
   ],
   "source": [
    "print(response_data)"
   ]
  },
  {
   "cell_type": "code",
   "execution_count": 21,
   "metadata": {},
   "outputs": [
    {
     "data": {
      "text/plain": [
       "{'generated': 1666866305000,\n",
       " 'url': 'https://earthquake.usgs.gov/fdsnws/event/1/query.geojson?starttime=2010-01-01&maxlatitude=58.723&minlatitude=50.008&maxlongitude=1.67&minlongitude=-9.756&minmagnitude=1&endtime=2018-10-11&orderby=time-asc',\n",
       " 'title': 'USGS Earthquakes',\n",
       " 'status': 200,\n",
       " 'api': '1.13.6',\n",
       " 'count': 28}"
      ]
     },
     "execution_count": 21,
     "metadata": {},
     "output_type": "execute_result"
    }
   ],
   "source": [
    "response_data[\"metadata\"]"
   ]
  },
  {
   "cell_type": "code",
   "execution_count": null,
   "metadata": {},
   "outputs": [],
   "source": []
  }
 ],
 "metadata": {
  "kernelspec": {
   "display_name": "Python 3.9.12 ('base')",
   "language": "python",
   "name": "python3"
  },
  "language_info": {
   "codemirror_mode": {
    "name": "ipython",
    "version": 3
   },
   "file_extension": ".py",
   "mimetype": "text/x-python",
   "name": "python",
   "nbconvert_exporter": "python",
   "pygments_lexer": "ipython3",
   "version": "3.9.12"
  },
  "orig_nbformat": 4,
  "vscode": {
   "interpreter": {
    "hash": "c124b18b936e58b2c77a97490d9100c25b07542d06466e5a671acf5dd123b9be"
   }
  }
 },
 "nbformat": 4,
 "nbformat_minor": 2
}
